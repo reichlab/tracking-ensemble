{
 "cells": [
  {
   "cell_type": "markdown",
   "metadata": {},
   "source": [
    "# Train\n",
    "\n",
    "Train models and find optimal parameters using cross validation.\n",
    "\n",
    "The models are:\n",
    "1. `Oracle`. Needs no training.\n",
    "2. `Mean`. Needs no training.\n",
    "3. `DemWeight`. Learn weights over the training set.\n",
    "4. `HitWeight`. Optimize `beta` using CV and learn weights.\n",
    "5. `ScoreWeight`. Optimize `beta` using CV and learn weights.\n",
    "6. `KDemWeight`. Optimize `k` using CV and learn weights.\n",
    "7. `MPWeight`. Optimize `eta` using CV.\n",
    "\n",
    "For all the models with learning requirements, we will use leave one season out cross validation scheme to find optimal parameters and then save a model dump using weights trained from the complete training data."
   ]
  },
  {
   "cell_type": "code",
   "execution_count": 9,
   "metadata": {},
   "outputs": [
    {
     "name": "stdout",
     "output_type": "stream",
     "text": [
      "The autoreload extension is already loaded. To reload it, use:\n",
      "  %reload_ext autoreload\n"
     ]
    }
   ],
   "source": [
    "%load_ext autoreload\n",
    "%autoreload 2\n",
    "%matplotlib inline\n",
    "\n",
    "import matplotlib.pyplot as plt\n",
    "import numpy as np\n",
    "import pandas as pd\n",
    "np.random.seed(1234)\n",
    "\n",
    "import sys\n",
    "sys.path.append(\"../src\")\n",
    "from utils import data as udata\n",
    "from utils import dists as udists\n",
    "from utils import misc as u\n",
    "from tqdm import tqdm, trange\n",
    "import models\n",
    "import inspect"
   ]
  },
  {
   "cell_type": "code",
   "execution_count": 2,
   "metadata": {},
   "outputs": [],
   "source": [
    "EXP_DIR = \"../data/processed/cdc-flusight-ensemble/\"\n",
    "TARGET = \"4-ahead\"\n",
    "REGION = None\n",
    "TRAINING_SEASONS = list(range(2010, 2014))"
   ]
  },
  {
   "cell_type": "code",
   "execution_count": 3,
   "metadata": {},
   "outputs": [],
   "source": [
    "components = [udata.Component(EXP_DIR, m) for m in udata.available_models(EXP_DIR)]\n",
    "ad = udata.ActualData(EXP_DIR)"
   ]
  },
  {
   "cell_type": "markdown",
   "metadata": {},
   "source": [
    "## Data partition\n",
    "\n",
    "We have training data from the set [2010, 2016]. From these, we use [2010, 2013] for training and CV."
   ]
  },
  {
   "cell_type": "code",
   "execution_count": 4,
   "metadata": {},
   "outputs": [],
   "source": [
    "def get_seasons_data(seasons):\n",
    "    \"\"\"\n",
    "    Return a tuple of yi, y and Xs for the givens seasons, concatenated.\n",
    "    \"\"\"\n",
    "    \n",
    "    ypairs = [ad.get(TARGET, region_name=REGION, season=s) for s in seasons]\n",
    "    yi = pd.concat([yp[0] for yp in ypairs], ignore_index=True)\n",
    "    y = np.concatenate([yp[1] for yp in ypairs])\n",
    "    \n",
    "    Xs = [\n",
    "        np.concatenate([c.get(TARGET, region_name=REGION, season=s)[1] for s in seasons])\n",
    "        for c in components\n",
    "    ]\n",
    "    \n",
    "    return yi, y, Xs"
   ]
  },
  {
   "cell_type": "markdown",
   "metadata": {},
   "source": [
    "## Evaluation\n",
    "\n",
    "We evaluate the models on the left out season and take mean across all such evaluations."
   ]
  },
  {
   "cell_type": "code",
   "execution_count": 5,
   "metadata": {},
   "outputs": [],
   "source": [
    "def evaluate_season(model, season):\n",
    "    \"\"\"\n",
    "    Return score and model predictions for given season\n",
    "    \"\"\"\n",
    "    \n",
    "    yi, y, Xs = get_seasons_data([season])\n",
    "    predictions = np.zeros_like(Xs[0])\n",
    "\n",
    "    for i in range(len(yi)):\n",
    "        # HACK: Check if this is an oracle\n",
    "        # This should ideally go in as a flag in the model\n",
    "        if \"truth\" in inspect.signature(model.predict).parameters:\n",
    "            # This is an oracle\n",
    "            predictions[i, :] = model.predict(yi.iloc[i], [X[i] for X in Xs], y[i])\n",
    "        else:\n",
    "            predictions[i, :] = model.predict(yi.iloc[i], [X[i] for X in Xs]) \n",
    "        # Pass in feedback if model accepts it\n",
    "        try:\n",
    "            model.feedback(y[i])\n",
    "        except NotImplementedError:\n",
    "            pass\n",
    "\n",
    "    score = np.log(udists.prediction_probabilities([predictions], y, TARGET)).mean()\n",
    "    return score, predictions\n",
    "\n",
    "def cross_validate(model):\n",
    "    \"\"\"\n",
    "    Run cross validation and return mean score\n",
    "    \"\"\"\n",
    "    \n",
    "    cv_scores = []\n",
    "    train_scores = []\n",
    "    for season in tqdm(TRAINING_SEASONS):\n",
    "        train_seasons = [s for s in TRAINING_SEASONS if s != season]\n",
    "        yi, y, Xs = get_seasons_data(train_seasons)\n",
    "        model.train(yi, Xs, y)\n",
    "        for ts in train_seasons:\n",
    "            score, _= evaluate_season(model, ts)\n",
    "            train_scores.append(score)\n",
    "        \n",
    "        score, _ = evaluate_season(model, season)\n",
    "        cv_scores.append(score)\n",
    "\n",
    "    return np.mean(train_scores), np.mean(cv_scores)"
   ]
  },
  {
   "cell_type": "markdown",
   "metadata": {},
   "source": [
    "# Cross validation"
   ]
  },
  {
   "cell_type": "markdown",
   "metadata": {},
   "source": [
    "## Oracle model\n",
    "This is the oracle model which sets the upper limit for prediction"
   ]
  },
  {
   "cell_type": "code",
   "execution_count": 6,
   "metadata": {
    "scrolled": true
   },
   "outputs": [
    {
     "name": "stderr",
     "output_type": "stream",
     "text": [
      "100%|██████████| 4/4 [00:38<00:00,  9.61s/it]\n"
     ]
    },
    {
     "data": {
      "text/plain": [
       "(-2.0852054490336465, -2.085205449033647)"
      ]
     },
     "execution_count": 6,
     "metadata": {},
     "output_type": "execute_result"
    }
   ],
   "source": [
    "cross_validate(models.OracleEnsemble(TARGET, len(components)))"
   ]
  },
  {
   "cell_type": "markdown",
   "metadata": {},
   "source": [
    "## Mean ensemble\n",
    "Return the mean of component predictions. It kind of sets the lower limit since we should be able to beat the mean at the very least."
   ]
  },
  {
   "cell_type": "code",
   "execution_count": 7,
   "metadata": {
    "scrolled": true
   },
   "outputs": [
    {
     "name": "stderr",
     "output_type": "stream",
     "text": [
      "100%|██████████| 4/4 [00:02<00:00,  1.39it/s]\n"
     ]
    },
    {
     "data": {
      "text/plain": [
       "(-3.235595801146737, -3.235595801146738)"
      ]
     },
     "execution_count": 7,
     "metadata": {},
     "output_type": "execute_result"
    }
   ],
   "source": [
    "cross_validate(models.MeanEnsemble(TARGET, len(components)))"
   ]
  },
  {
   "cell_type": "markdown",
   "metadata": {},
   "source": [
    "## Degenerate EM\n",
    "This trains weights for each component using degenerate EM. It doesn't take into account the current week."
   ]
  },
  {
   "cell_type": "code",
   "execution_count": 8,
   "metadata": {
    "scrolled": true
   },
   "outputs": [
    {
     "name": "stderr",
     "output_type": "stream",
     "text": [
      "100%|██████████| 4/4 [00:03<00:00,  1.17it/s]\n"
     ]
    },
    {
     "data": {
      "text/plain": [
       "(-3.076101955235282, -3.10207780379167)"
      ]
     },
     "execution_count": 8,
     "metadata": {},
     "output_type": "execute_result"
    }
   ],
   "source": [
    "cross_validate(models.DemWeightEnsemble(TARGET, len(components)))"
   ]
  },
  {
   "cell_type": "markdown",
   "metadata": {},
   "source": [
    "## K-partition Degenerate EM\n",
    "Here we partition the list of model weeks in k partitions and run degenerate EM on each of these. While predicting, we check in which partition the instance belongs (using its model week) and then use that partition's weights for generating predictions.\n",
    "\n",
    "In the case of k = 1, this is equivalent to simple degenerate EM. When k=len(model_weeks), this is equivalent to learning weights per week (this would still not be oracular since, for a week, we might have more instances if we consider more than one region)."
   ]
  },
  {
   "cell_type": "code",
   "execution_count": 16,
   "metadata": {},
   "outputs": [
    {
     "name": "stderr",
     "output_type": "stream",
     "text": [
      "100%|██████████| 4/4 [00:04<00:00,  1.05s/it]\n",
      "100%|██████████| 4/4 [00:29<00:00,  7.32s/it]\n",
      "100%|██████████| 4/4 [02:54<00:00, 43.63s/it]\n",
      "100%|██████████| 4/4 [02:57<00:00, 44.30s/it]\n",
      "100%|██████████| 4/4 [02:44<00:00, 41.21s/it]\n",
      "100%|██████████| 4/4 [02:36<00:00, 39.02s/it]\n",
      "100%|██████████| 4/4 [02:34<00:00, 38.70s/it]\n",
      "100%|██████████| 4/4 [02:32<00:00, 38.15s/it]\n",
      "100%|██████████| 4/4 [02:33<00:00, 38.32s/it]\n",
      "100%|██████████| 4/4 [02:25<00:00, 36.34s/it]\n",
      "100%|██████████| 4/4 [02:14<00:00, 33.59s/it]\n",
      "100%|██████████| 4/4 [02:08<00:00, 32.20s/it]\n",
      "100%|██████████| 4/4 [02:03<00:00, 30.94s/it]\n",
      "100%|██████████| 4/4 [01:56<00:00, 29.15s/it]\n",
      "100%|██████████| 4/4 [01:50<00:00, 27.53s/it]\n",
      "100%|██████████| 4/4 [01:44<00:00, 26.01s/it]\n",
      "100%|██████████| 4/4 [01:37<00:00, 24.39s/it]\n",
      "100%|██████████| 4/4 [01:31<00:00, 22.81s/it]\n",
      "100%|██████████| 4/4 [01:24<00:00, 21.10s/it]\n",
      "100%|██████████| 4/4 [01:17<00:00, 19.46s/it]\n",
      "100%|██████████| 4/4 [01:11<00:00, 17.81s/it]\n",
      "100%|██████████| 4/4 [01:04<00:00, 16.16s/it]\n",
      "100%|██████████| 4/4 [00:57<00:00, 14.45s/it]\n",
      "100%|██████████| 4/4 [00:51<00:00, 12.87s/it]\n",
      "100%|██████████| 4/4 [00:45<00:00, 11.28s/it]\n",
      "100%|██████████| 4/4 [00:38<00:00,  9.73s/it]\n",
      "100%|██████████| 4/4 [00:32<00:00,  8.22s/it]\n",
      "100%|██████████| 4/4 [00:26<00:00,  6.75s/it]\n",
      "100%|██████████| 4/4 [00:21<00:00,  5.35s/it]\n"
     ]
    }
   ],
   "source": [
    "cv_scores = []\n",
    "t_scores = []\n",
    "for k in range(1, 30):\n",
    "    ts, cs = cross_validate(models.KDemWeightEnsemble(TARGET, len(components), k))\n",
    "    cv_scores.append(cs)\n",
    "    t_scores.append(ts)"
   ]
  },
  {
   "cell_type": "code",
   "execution_count": 20,
   "metadata": {},
   "outputs": [
    {
     "data": {
      "text/plain": [
       "<matplotlib.legend.Legend at 0x7f62a9587ef0>"
      ]
     },
     "execution_count": 20,
     "metadata": {},
     "output_type": "execute_result"
    },
    {
     "data": {
      "image/png": "[encoded data removed]",
      "text/plain": [
       "<matplotlib.figure.Figure at 0x7f62a94c8198>"
      ]
     },
     "metadata": {},
     "output_type": "display_data"
    }
   ],
   "source": [
    "plt.plot(t_scores, label=\"training\")\n",
    "plt.plot(cv_scores, label=\"cv\")\n",
    "plt.legend()"
   ]
  },
  {
   "cell_type": "code",
   "execution_count": 22,
   "metadata": {},
   "outputs": [],
   "source": [
    "# ^ looks like there is some issue with the k partition model\n",
    "# Training scores should always be better than that of plain\n",
    "# dem (-3.076101955235282)"
   ]
  },
  {
   "cell_type": "markdown",
   "metadata": {},
   "source": [
    "## Hit weight ensemble\n",
    "This is a toy model which uses the number of times a model is best (hit) among the lot to assign its weight. Its basically a sharper weight assignment scheme than the score weight ensemble. Additionally, since we have less data (and so the hits are sparse), this model doesn't learn different weights for different model weeks."
   ]
  },
  {
   "cell_type": "code",
   "execution_count": 25,
   "metadata": {
    "scrolled": true
   },
   "outputs": [
    {
     "name": "stderr",
     "output_type": "stream",
     "text": [
      "100%|██████████| 4/4 [00:02<00:00,  1.44it/s]\n",
      "100%|██████████| 4/4 [00:02<00:00,  1.47it/s]\n",
      "100%|██████████| 4/4 [00:02<00:00,  1.40it/s]\n",
      "100%|██████████| 4/4 [00:02<00:00,  1.48it/s]\n",
      "100%|██████████| 4/4 [00:02<00:00,  1.47it/s]\n",
      "100%|██████████| 4/4 [00:02<00:00,  1.40it/s]\n",
      "100%|██████████| 4/4 [00:02<00:00,  1.47it/s]\n",
      "100%|██████████| 4/4 [00:02<00:00,  1.44it/s]\n",
      "100%|██████████| 4/4 [00:02<00:00,  1.42it/s]\n",
      "100%|██████████| 4/4 [00:02<00:00,  1.48it/s]\n",
      "  0%|          | 0/4 [00:00<?, ?it/s]../src/models.py:24: RuntimeWarning: overflow encountered in exp\n",
      "  expv = np.exp(beta * vector)\n",
      "../src/models.py:25: RuntimeWarning: invalid value encountered in true_divide\n",
      "  return expv / np.sum(expv)\n",
      "100%|██████████| 4/4 [00:02<00:00,  1.48it/s]\n"
     ]
    }
   ],
   "source": [
    "cv_scores = []\n",
    "t_scores = []\n",
    "betas = [0, 0.001, 0.01, 0.05, 0.1, 0.5, 0.8, 0.9, 1.0, 2.0, 5.0]\n",
    "for beta in betas:\n",
    "    ts, cs = cross_validate(models.HitWeightEnsemble(TARGET, len(components), beta))\n",
    "    cv_scores.append(cs)\n",
    "    t_scores.append(ts)"
   ]
  },
  {
   "cell_type": "code",
   "execution_count": 29,
   "metadata": {},
   "outputs": [
    {
     "data": {
      "text/plain": [
       "<matplotlib.legend.Legend at 0x7f62a9684a20>"
      ]
     },
     "execution_count": 29,
     "metadata": {},
     "output_type": "execute_result"
    },
    {
     "data": {
      "image/png": "[encoded data removed]",
      "text/plain": [
       "<matplotlib.figure.Figure at 0x7f62a972c208>"
      ]
     },
     "metadata": {},
     "output_type": "display_data"
    }
   ],
   "source": [
    "plt.plot(t_scores, label=\"training\")\n",
    "plt.plot(cv_scores, label=\"cv\")\n",
    "plt.xticks(range(len(t_scores)), betas)\n",
    "plt.legend()"
   ]
  },
  {
   "cell_type": "markdown",
   "metadata": {},
   "source": [
    "## Score weight ensemble\n",
    "Here we learn one set of weights for each model week using the value of model score."
   ]
  },
  {
   "cell_type": "code",
   "execution_count": 30,
   "metadata": {},
   "outputs": [
    {
     "name": "stderr",
     "output_type": "stream",
     "text": [
      "100%|██████████| 4/4 [00:03<00:00,  1.20it/s]\n",
      "100%|██████████| 4/4 [00:03<00:00,  1.32it/s]\n",
      "100%|██████████| 4/4 [00:03<00:00,  1.30it/s]\n",
      "100%|██████████| 4/4 [00:03<00:00,  1.30it/s]\n",
      "100%|██████████| 4/4 [00:03<00:00,  1.31it/s]\n",
      "100%|██████████| 4/4 [00:03<00:00,  1.33it/s]\n",
      "100%|██████████| 4/4 [00:03<00:00,  1.32it/s]\n",
      "100%|██████████| 4/4 [00:03<00:00,  1.24it/s]\n",
      "100%|██████████| 4/4 [00:03<00:00,  1.24it/s]\n",
      "100%|██████████| 4/4 [00:03<00:00,  1.20it/s]\n",
      "100%|██████████| 4/4 [00:03<00:00,  1.22it/s]\n"
     ]
    }
   ],
   "source": [
    "cv_scores = []\n",
    "t_scores = []\n",
    "betas = [0, 0.001, 0.01, 0.05, 0.1, 0.5, 0.8, 0.9, 1.0, 2.0, 5.0]\n",
    "for beta in betas:\n",
    "    ts, cs = cross_validate(models.ScoreWeightEnsemble(TARGET, len(components), beta))\n",
    "    cv_scores.append(cs)\n",
    "    t_scores.append(ts)"
   ]
  },
  {
   "cell_type": "code",
   "execution_count": 31,
   "metadata": {},
   "outputs": [
    {
     "data": {
      "text/plain": [
       "<matplotlib.legend.Legend at 0x7f62a942be10>"
      ]
     },
     "execution_count": 31,
     "metadata": {},
     "output_type": "execute_result"
    },
    {
     "data": {
      "image/png": "[encoded data removed]",
      "text/plain": [
       "<matplotlib.figure.Figure at 0x7f62a9663e80>"
      ]
     },
     "metadata": {},
     "output_type": "display_data"
    }
   ],
   "source": [
    "plt.plot(t_scores, label=\"training\")\n",
    "plt.plot(cv_scores, label=\"cv\")\n",
    "plt.xticks(range(len(t_scores)), betas)\n",
    "plt.legend()"
   ]
  },
  {
   "cell_type": "markdown",
   "metadata": {},
   "source": [
    "## Multiplicative weight\n",
    "This adapts the model weights according to past performance by hedging."
   ]
  },
  {
   "cell_type": "code",
   "execution_count": null,
   "metadata": {},
   "outputs": [],
   "source": [
    "# TODO: Fix underflow\n",
    "cross_validate(models.MPWeightEnsemble(TARGET, len(components), 0.1))"
   ]
  }
 ],
 "metadata": {
  "kernelspec": {
   "display_name": "Python 3",
   "language": "python",
   "name": "python3"
  },
  "language_info": {
   "codemirror_mode": {
    "name": "ipython",
    "version": 3
   },
   "file_extension": ".py",
   "mimetype": "text/x-python",
   "name": "python",
   "nbconvert_exporter": "python",
   "pygments_lexer": "ipython3",
   "version": "3.6.3"
  }
 },
 "nbformat": 4,
 "nbformat_minor": 2
}
