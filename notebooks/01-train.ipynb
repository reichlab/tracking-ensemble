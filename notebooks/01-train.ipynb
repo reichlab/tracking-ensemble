{
 "cells": [
  {
   "cell_type": "markdown",
   "metadata": {},
   "source": [
    "# Train\n",
    "\n",
    "Train models and find optimal parameters using cross validation.\n",
    "\n",
    "The models are:\n",
    "1. `Oracle`. Needs no training.\n",
    "2. `Mean`. Needs no training.\n",
    "3. `DemWeight`. Learn weights over the training set.\n",
    "4. `HitWeight`. Optimize `beta` using CV and learn weights.\n",
    "5. `ScoreWeight`. Optimize `beta` using CV and learn weights.\n",
    "6. `KDemWeight`. Optimize `k` using CV and learn weights.\n",
    "7. `MPWeight`. Optimize `eta` using CV.\n",
    "\n",
    "For all the models with learning requirements, we will use leave one season out cross validation scheme to find optimal parameters and then save a model dump using weights trained from the complete training data."
   ]
  },
  {
   "cell_type": "code",
   "execution_count": 10,
   "metadata": {},
   "outputs": [
    {
     "name": "stdout",
     "output_type": "stream",
     "text": [
      "The autoreload extension is already loaded. To reload it, use:\n",
      "  %reload_ext autoreload\n"
     ]
    }
   ],
   "source": [
    "%load_ext autoreload\n",
    "%autoreload 2\n",
    "%matplotlib inline\n",
    "\n",
    "import matplotlib.pyplot as plt\n",
    "import numpy as np\n",
    "import pandas as pd\n",
    "np.random.seed(1234)\n",
    "\n",
    "import sys\n",
    "sys.path.append(\"../src\")\n",
    "from utils import data as udata\n",
    "from utils import dists as udists\n",
    "from utils import misc as u\n",
    "from tqdm import tqdm, trange\n",
    "import os.path as path\n",
    "import json\n",
    "import stringcase\n",
    "import models\n",
    "import inspect"
   ]
  },
  {
   "cell_type": "code",
   "execution_count": 2,
   "metadata": {},
   "outputs": [],
   "source": [
    "EXP_DIR = \"../data/processed/cdc-flusight-ensemble/\"\n",
    "OUTPUT_DIR = \"../models/cdc-flusight-ensemble/\"\n",
    "TARGET = \"1-ahead\"\n",
    "# We use all the regions as of now\n",
    "REGION = None\n",
    "# We have training data from the set [2010, 2016]. From these, we use\n",
    "# [2010, 2013] for training and CV.\n",
    "TRAINING_SEASONS = list(range(2010, 2014))"
   ]
  },
  {
   "cell_type": "code",
   "execution_count": 3,
   "metadata": {},
   "outputs": [],
   "source": [
    "components = [udata.Component(EXP_DIR, m) for m in udata.available_models(EXP_DIR)]\n",
    "ad = udata.ActualData(EXP_DIR)"
   ]
  },
  {
   "cell_type": "markdown",
   "metadata": {},
   "source": [
    "## Evaluation\n",
    "\n",
    "We evaluate the models on the left out season and take mean across all such evaluations."
   ]
  },
  {
   "cell_type": "code",
   "execution_count": 101,
   "metadata": {},
   "outputs": [],
   "source": [
    "def evaluate_season(model, season):\n",
    "    \"\"\"\n",
    "    Return score and model predictions for given season\n",
    "    \"\"\"\n",
    "    \n",
    "    yi, Xs, y = udata.get_seasons_data(ad, components, [season], TARGET, REGION)\n",
    "    predictions = np.zeros_like(Xs[0])\n",
    "\n",
    "    for i in range(len(yi)):\n",
    "        # HACK: Check if this is an oracle\n",
    "        # This should ideally go in as a flag in the model\n",
    "        if \"truth\" in inspect.signature(model.predict).parameters:\n",
    "            # This is an oracle\n",
    "            predictions[i, :] = model.predict(yi.iloc[i], [X[i] for X in Xs], y[i])\n",
    "        else:\n",
    "            predictions[i, :] = model.predict(yi.iloc[i], [X[i] for X in Xs]) \n",
    "        # Pass in feedback if model accepts it\n",
    "        try:\n",
    "            model.feedback(y[i])\n",
    "        except NotImplementedError:\n",
    "            pass\n",
    "\n",
    "    score = np.log(udists.prediction_probabilities([predictions], y, TARGET)).mean()\n",
    "    return score, predictions\n",
    "\n",
    "def cross_validate(model, post_training_hook=None):\n",
    "    \"\"\"\n",
    "    Run cross validation and return mean score\n",
    "    \"\"\"\n",
    "    \n",
    "    cv_scores = []\n",
    "    train_scores = []\n",
    "    for season in tqdm(TRAINING_SEASONS):\n",
    "        train_seasons = [s for s in TRAINING_SEASONS if s != season]\n",
    "        yi, Xs, y = udata.get_seasons_data(ad, components, train_seasons, TARGET, REGION)\n",
    "        model.train(yi, Xs, y)\n",
    "            \n",
    "        for ts in train_seasons:\n",
    "            # Need to reset the model before every evaluation\n",
    "            # TODO: This should be done even when not using a hook\n",
    "            if post_training_hook:\n",
    "                model = post_training_hook(model)\n",
    "            score, _= evaluate_season(model, ts)\n",
    "            train_scores.append(score)\n",
    "        \n",
    "        if post_training_hook:\n",
    "            model = post_training_hook(model)\n",
    "        score, _ = evaluate_season(model, season)\n",
    "        cv_scores.append(score)\n",
    "\n",
    "    return np.mean(train_scores), np.mean(cv_scores)\n",
    "\n",
    "def train_and_save(model):\n",
    "    \"\"\"\n",
    "    Train the model on all data and save \n",
    "    \"\"\"\n",
    "    \n",
    "    yi, Xs, y = udata.get_seasons_data(ad, components, TRAINING_SEASONS, TARGET, REGION)\n",
    "    model.train(yi, Xs, y)\n",
    "    model_file_name = f\"{stringcase.spinalcase(type(model).__name__)}.json\"\n",
    "    model.save(path.join(OUTPUT_DIR, TARGET, model_file_name))"
   ]
  },
  {
   "cell_type": "markdown",
   "metadata": {},
   "source": [
    "# Cross validation"
   ]
  },
  {
   "cell_type": "markdown",
   "metadata": {},
   "source": [
    "## Oracle model\n",
    "This is the oracle model which sets the upper limit for prediction"
   ]
  },
  {
   "cell_type": "code",
   "execution_count": 5,
   "metadata": {
    "scrolled": true
   },
   "outputs": [
    {
     "name": "stderr",
     "output_type": "stream",
     "text": [
      "100%|██████████| 4/4 [00:35<00:00,  8.96s/it]\n"
     ]
    },
    {
     "data": {
      "text/plain": [
       "(-1.8382281857986074, -1.8382281857986071)"
      ]
     },
     "execution_count": 5,
     "metadata": {},
     "output_type": "execute_result"
    }
   ],
   "source": [
    "cross_validate(models.OracleEnsemble(TARGET, len(components)))"
   ]
  },
  {
   "cell_type": "markdown",
   "metadata": {},
   "source": [
    "## Mean ensemble\n",
    "Return the mean of component predictions. It kind of sets the lower bar since we should be able to beat the mean at the very least."
   ]
  },
  {
   "cell_type": "code",
   "execution_count": 6,
   "metadata": {
    "scrolled": true
   },
   "outputs": [
    {
     "name": "stderr",
     "output_type": "stream",
     "text": [
      "100%|██████████| 4/4 [00:02<00:00,  1.47it/s]\n"
     ]
    },
    {
     "data": {
      "text/plain": [
       "(-2.8105286187289806, -2.8105286187289806)"
      ]
     },
     "execution_count": 6,
     "metadata": {},
     "output_type": "execute_result"
    }
   ],
   "source": [
    "cross_validate(models.MeanEnsemble(TARGET, len(components)))"
   ]
  },
  {
   "cell_type": "markdown",
   "metadata": {},
   "source": [
    "## Degenerate EM\n",
    "This trains weights for each component using degenerate EM. It doesn't take into account the current week."
   ]
  },
  {
   "cell_type": "code",
   "execution_count": 7,
   "metadata": {
    "scrolled": false
   },
   "outputs": [
    {
     "name": "stderr",
     "output_type": "stream",
     "text": [
      "100%|██████████| 4/4 [00:04<00:00,  1.06s/it]\n"
     ]
    },
    {
     "data": {
      "text/plain": [
       "(-2.6409312377432497, -2.659125606739946)"
      ]
     },
     "execution_count": 7,
     "metadata": {},
     "output_type": "execute_result"
    }
   ],
   "source": [
    "cross_validate(models.DemWeightEnsemble(TARGET, len(components)))"
   ]
  },
  {
   "cell_type": "code",
   "execution_count": 8,
   "metadata": {},
   "outputs": [],
   "source": [
    "# Save the weights\n",
    "train_and_save(models.DemWeightEnsemble(TARGET, len(components)))"
   ]
  },
  {
   "cell_type": "markdown",
   "metadata": {},
   "source": [
    "## K-partition Degenerate EM\n",
    "Here we partition the list of model weeks in k partitions and run degenerate EM on each of these. While predicting, we check in which partition the instance belongs (using its model week) and then use that partition's weights for generating predictions.\n",
    "\n",
    "In the case of k = 1, this is equivalent to simple degenerate EM. When k=len(model_weeks), this is equivalent to learning weights per week (this would still not be oracular since, for a week, we might have more instances if we consider more than one region)."
   ]
  },
  {
   "cell_type": "code",
   "execution_count": 16,
   "metadata": {
    "scrolled": true
   },
   "outputs": [
    {
     "name": "stderr",
     "output_type": "stream",
     "text": [
      "100%|██████████| 4/4 [00:05<00:00,  1.27s/it]\n",
      "100%|██████████| 4/4 [00:49<00:00, 12.41s/it]\n",
      "100%|██████████| 4/4 [02:29<00:00, 37.37s/it]\n",
      "100%|██████████| 4/4 [02:28<00:00, 37.10s/it]\n",
      "100%|██████████| 4/4 [02:31<00:00, 37.97s/it]\n",
      "100%|██████████| 4/4 [02:26<00:00, 36.68s/it]\n",
      "100%|██████████| 4/4 [02:28<00:00, 37.14s/it]\n",
      "100%|██████████| 4/4 [02:26<00:00, 36.64s/it]\n",
      "100%|██████████| 4/4 [02:21<00:00, 35.49s/it]\n",
      "100%|██████████| 4/4 [02:16<00:00, 34.04s/it]\n",
      "100%|██████████| 4/4 [02:09<00:00, 32.40s/it]\n",
      "100%|██████████| 4/4 [02:06<00:00, 31.70s/it]\n",
      "100%|██████████| 4/4 [02:02<00:00, 30.54s/it]\n",
      "100%|██████████| 4/4 [01:56<00:00, 29.03s/it]\n",
      "100%|██████████| 4/4 [01:44<00:00, 26.22s/it]\n",
      "100%|██████████| 4/4 [01:38<00:00, 24.62s/it]\n",
      "100%|██████████| 4/4 [01:32<00:00, 23.16s/it]\n",
      "100%|██████████| 4/4 [01:31<00:00, 22.86s/it]\n",
      "100%|██████████| 4/4 [01:22<00:00, 20.63s/it]\n",
      "100%|██████████| 4/4 [01:16<00:00, 19.04s/it]\n",
      "100%|██████████| 4/4 [01:09<00:00, 17.43s/it]\n",
      "100%|██████████| 4/4 [01:03<00:00, 15.86s/it]\n",
      "100%|██████████| 4/4 [00:58<00:00, 14.63s/it]\n",
      "100%|██████████| 4/4 [00:51<00:00, 12.88s/it]\n",
      "100%|██████████| 4/4 [00:44<00:00, 11.16s/it]\n",
      "100%|██████████| 4/4 [00:38<00:00,  9.75s/it]\n",
      "100%|██████████| 4/4 [00:32<00:00,  8.21s/it]\n",
      "100%|██████████| 4/4 [00:26<00:00,  6.68s/it]\n",
      "100%|██████████| 4/4 [00:21<00:00,  5.32s/it]\n"
     ]
    }
   ],
   "source": [
    "cv_scores = []\n",
    "t_scores = []\n",
    "for k in range(1, 30):\n",
    "    ts, cs = cross_validate(models.KDemWeightEnsemble(TARGET, len(components), k))\n",
    "    cv_scores.append(cs)\n",
    "    t_scores.append(ts)"
   ]
  },
  {
   "cell_type": "code",
   "execution_count": 17,
   "metadata": {},
   "outputs": [
    {
     "data": {
      "text/plain": [
       "<matplotlib.legend.Legend at 0x7f405c7a24a8>"
      ]
     },
     "execution_count": 17,
     "metadata": {},
     "output_type": "execute_result"
    },
    {
     "data": {
      "image/png": "[encoded data removed]",
      "text/plain": [
       "<matplotlib.figure.Figure at 0x7f405c7ec0b8>"
      ]
     },
     "metadata": {},
     "output_type": "display_data"
    }
   ],
   "source": [
    "plt.plot(t_scores, label=\"training\")\n",
    "plt.plot(cv_scores, label=\"cv\")\n",
    "plt.legend()"
   ]
  },
  {
   "cell_type": "code",
   "execution_count": 20,
   "metadata": {},
   "outputs": [],
   "source": [
    "# Save the weights\n",
    "optimal_k = range(1, 30)[np.argmax(cv_scores)]\n",
    "train_and_save(models.KDemWeightEnsemble(TARGET, len(components), optimal_k))"
   ]
  },
  {
   "cell_type": "markdown",
   "metadata": {},
   "source": [
    "## Hit weight ensemble\n",
    "This is a toy model which uses the number of times a model is best (hit) among the lot to assign its weight. Its basically a sharper weight assignment scheme than the score weight ensemble. Additionally, since we have less data (and so the hits are sparse), this model doesn't learn different weights for different model weeks."
   ]
  },
  {
   "cell_type": "code",
   "execution_count": 21,
   "metadata": {
    "scrolled": true
   },
   "outputs": [
    {
     "name": "stderr",
     "output_type": "stream",
     "text": [
      "100%|██████████| 4/4 [00:02<00:00,  1.38it/s]\n",
      "100%|██████████| 4/4 [00:02<00:00,  1.36it/s]\n",
      "100%|██████████| 4/4 [00:02<00:00,  1.35it/s]\n",
      "100%|██████████| 4/4 [00:02<00:00,  1.40it/s]\n",
      "100%|██████████| 4/4 [00:03<00:00,  1.08it/s]\n",
      "100%|██████████| 4/4 [00:03<00:00,  1.09it/s]\n",
      "100%|██████████| 4/4 [00:02<00:00,  1.39it/s]\n",
      "100%|██████████| 4/4 [00:02<00:00,  1.40it/s]\n",
      "100%|██████████| 4/4 [00:02<00:00,  1.38it/s]\n",
      "100%|██████████| 4/4 [00:03<00:00,  1.30it/s]\n"
     ]
    }
   ],
   "source": [
    "cv_scores = []\n",
    "t_scores = []\n",
    "betas = np.linspace(0, 0.1, 10)\n",
    "for beta in betas:\n",
    "    ts, cs = cross_validate(models.HitWeightEnsemble(TARGET, len(components), beta))\n",
    "    cv_scores.append(cs)\n",
    "    t_scores.append(ts)"
   ]
  },
  {
   "cell_type": "code",
   "execution_count": 22,
   "metadata": {},
   "outputs": [
    {
     "data": {
      "text/plain": [
       "<matplotlib.legend.Legend at 0x7f405c33c208>"
      ]
     },
     "execution_count": 22,
     "metadata": {},
     "output_type": "execute_result"
    },
    {
     "data": {
      "image/png": "[encoded data removed]",
      "text/plain": [
       "<matplotlib.figure.Figure at 0x7f405c464390>"
      ]
     },
     "metadata": {},
     "output_type": "display_data"
    }
   ],
   "source": [
    "plt.plot(betas, t_scores, label=\"training\")\n",
    "plt.plot(betas, cv_scores, label=\"cv\")\n",
    "plt.legend()"
   ]
  },
  {
   "cell_type": "code",
   "execution_count": 23,
   "metadata": {},
   "outputs": [],
   "source": [
    "# Save the weights\n",
    "optimal_beta = betas[np.argmax(cv_scores)]\n",
    "train_and_save(models.HitWeightEnsemble(TARGET, len(components), optimal_beta))"
   ]
  },
  {
   "cell_type": "markdown",
   "metadata": {},
   "source": [
    "## Score weight ensemble\n",
    "Here we learn one set of weights for each model week using the value of model score."
   ]
  },
  {
   "cell_type": "code",
   "execution_count": 25,
   "metadata": {},
   "outputs": [
    {
     "name": "stderr",
     "output_type": "stream",
     "text": [
      "100%|██████████| 4/4 [00:03<00:00,  1.13it/s]\n",
      "100%|██████████| 4/4 [00:03<00:00,  1.18it/s]\n",
      "100%|██████████| 4/4 [00:03<00:00,  1.17it/s]\n",
      "100%|██████████| 4/4 [00:03<00:00,  1.13it/s]\n",
      "100%|██████████| 4/4 [00:03<00:00,  1.15it/s]\n"
     ]
    }
   ],
   "source": [
    "cv_scores = []\n",
    "t_scores = []\n",
    "betas = np.linspace(1, 5, 5)\n",
    "for beta in betas:\n",
    "    ts, cs = cross_validate(models.ScoreWeightEnsemble(TARGET, len(components), beta))\n",
    "    cv_scores.append(cs)\n",
    "    t_scores.append(ts)"
   ]
  },
  {
   "cell_type": "code",
   "execution_count": 26,
   "metadata": {},
   "outputs": [
    {
     "data": {
      "text/plain": [
       "<matplotlib.legend.Legend at 0x7f405cb19a90>"
      ]
     },
     "execution_count": 26,
     "metadata": {},
     "output_type": "execute_result"
    },
    {
     "data": {
      "image/png": "[encoded data removed]",
      "text/plain": [
       "<matplotlib.figure.Figure at 0x7f405c5ffc50>"
      ]
     },
     "metadata": {},
     "output_type": "display_data"
    }
   ],
   "source": [
    "plt.plot(betas, t_scores, label=\"training\")\n",
    "plt.plot(betas, cv_scores, label=\"cv\")\n",
    "plt.legend()"
   ]
  },
  {
   "cell_type": "code",
   "execution_count": 27,
   "metadata": {},
   "outputs": [],
   "source": [
    "# Save the weights\n",
    "optimal_beta = betas[np.argmax(cv_scores)]\n",
    "train_and_save(models.ScoreWeightEnsemble(TARGET, len(components), optimal_beta))"
   ]
  },
  {
   "cell_type": "markdown",
   "metadata": {},
   "source": [
    "## Multiplicative weight\n",
    "This adapts the model weights according to past performance by hedging."
   ]
  },
  {
   "cell_type": "code",
   "execution_count": 108,
   "metadata": {
    "scrolled": true
   },
   "outputs": [
    {
     "name": "stderr",
     "output_type": "stream",
     "text": [
      "100%|██████████| 4/4 [00:06<00:00,  1.61s/it]\n",
      "100%|██████████| 4/4 [00:08<00:00,  2.15s/it]\n",
      "100%|██████████| 4/4 [00:07<00:00,  1.85s/it]\n",
      "100%|██████████| 4/4 [00:06<00:00,  1.72s/it]\n",
      "100%|██████████| 4/4 [00:06<00:00,  1.62s/it]\n",
      "100%|██████████| 4/4 [00:06<00:00,  1.62s/it]\n",
      "100%|██████████| 4/4 [00:06<00:00,  1.69s/it]\n",
      "100%|██████████| 4/4 [00:06<00:00,  1.60s/it]\n",
      "100%|██████████| 4/4 [00:06<00:00,  1.50s/it]\n",
      "100%|██████████| 4/4 [00:06<00:00,  1.63s/it]\n",
      "100%|██████████| 4/4 [00:06<00:00,  1.67s/it]\n"
     ]
    }
   ],
   "source": [
    "cv_scores = []\n",
    "t_scores = []\n",
    "etas = np.linspace(0.5, 1.5, 11)\n",
    "\n",
    "# Define a post training hook\n",
    "def pth(model):\n",
    "    # Read initial weights from DEM\n",
    "    with open(path.join(OUTPUT_DIR, TARGET, \"dem-weight-ensemble.json\")) as fp:\n",
    "        model._weights = json.load(fp)[\"fit_params\"][\"weights\"]\n",
    "    return model\n",
    "\n",
    "def pth_reset(model):\n",
    "    model._weights = np.ones((model.n_comps,)) / model.n_comps\n",
    "    return model\n",
    "\n",
    "for eta in etas:\n",
    "    ts, cs = cross_validate(models.MPWeightEnsemble(TARGET, len(components), eta), pth)\n",
    "    cv_scores.append(cs)\n",
    "    t_scores.append(ts)"
   ]
  },
  {
   "cell_type": "code",
   "execution_count": 109,
   "metadata": {},
   "outputs": [
    {
     "data": {
      "text/plain": [
       "<matplotlib.legend.Legend at 0x7f1569f51128>"
      ]
     },
     "execution_count": 109,
     "metadata": {},
     "output_type": "execute_result"
    },
    {
     "data": {
      "image/png": "[encoded data removed]",
      "text/plain": [
       "<matplotlib.figure.Figure at 0x7f1569989518>"
      ]
     },
     "metadata": {},
     "output_type": "display_data"
    }
   ],
   "source": [
    "plt.plot(etas, t_scores, label=\"training\")\n",
    "plt.plot(etas, cv_scores, label=\"cv\")\n",
    "plt.legend()"
   ]
  },
  {
   "cell_type": "code",
   "execution_count": 112,
   "metadata": {},
   "outputs": [],
   "source": [
    "# Save the weights\n",
    "optimal_eta = etas[np.argmax(cv_scores)]\n",
    "train_and_save(models.MPWeightEnsemble(TARGET, len(components), optimal_eta))"
   ]
  }
 ],
 "metadata": {
  "kernelspec": {
   "display_name": "Python 3",
   "language": "python",
   "name": "python3"
  },
  "language_info": {
   "codemirror_mode": {
    "name": "ipython",
    "version": 3
   },
   "file_extension": ".py",
   "mimetype": "text/x-python",
   "name": "python",
   "nbconvert_exporter": "python",
   "pygments_lexer": "ipython3",
   "version": "3.6.4"
  }
 },
 "nbformat": 4,
 "nbformat_minor": 2
}
